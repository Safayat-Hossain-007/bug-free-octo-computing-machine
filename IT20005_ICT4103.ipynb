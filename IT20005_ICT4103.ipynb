{
  "nbformat": 4,
  "nbformat_minor": 0,
  "metadata": {
    "colab": {
      "provenance": [],
      "authorship_tag": "ABX9TyOEBXqklgyKCJchhcUc2ovn",
      "include_colab_link": true
    },
    "kernelspec": {
      "name": "python3",
      "display_name": "Python 3"
    },
    "language_info": {
      "name": "python"
    }
  },
  "cells": [
    {
      "cell_type": "markdown",
      "metadata": {
        "id": "view-in-github",
        "colab_type": "text"
      },
      "source": [
        "<a href=\"https://colab.research.google.com/github/Safayat-Hossain-007/bug-free-octo-computing-machine/blob/main/IT20005_ICT4103.ipynb\" target=\"_parent\"><img src=\"https://colab.research.google.com/assets/colab-badge.svg\" alt=\"Open In Colab\"/></a>"
      ]
    },
    {
      "cell_type": "code",
      "source": [
        "'''\n",
        "1) How can you implement a Python program utilizing the linear congruential method to generate a\n",
        "sequence of random numbers where seed, multiplier, increment are 27, 17 and 43 respectively over\n",
        "the modulo of 100.\n",
        "'''\n",
        "def lcg(multiplier, seed, increment, mod, n):\n",
        "    \"\"\"\n",
        "    Generates a sequence of random numbers using the linear congruential method.\n",
        "\n",
        "    Args:\n",
        "        multiplier: The multiplier value (a).\n",
        "        seed: The seed or start value (X0).\n",
        "        increment: The increment value (c).\n",
        "        mod: The modulus value (m).\n",
        "        n: The number of random numbers to generate.\n",
        "\n",
        "    Returns:\n",
        "        A list containing the sequence of random numbers.\n",
        "    \"\"\"\n",
        "    random_nums = []\n",
        "    current_value = seed\n",
        "    for _ in range(n):\n",
        "        next_value = (multiplier * current_value + increment) % mod\n",
        "        random_nums.append(next_value)\n",
        "        current_value = next_value\n",
        "    return random_nums\n",
        "\n",
        "# Parameters for the LCG\n",
        "seed = 27\n",
        "multiplier = 17\n",
        "increment = 43\n",
        "mod = 100\n",
        "n = 10\n",
        "\n",
        "# Generate the random numbers\n",
        "random_numbers = lcg(multiplier, seed, increment, mod, n)\n",
        "print(random_numbers)\n"
      ],
      "metadata": {
        "colab": {
          "base_uri": "https://localhost:8080/"
        },
        "id": "g7t63VQfjCxR",
        "outputId": "10b4ccfa-1f34-416e-a1bb-162f65133bd8"
      },
      "execution_count": null,
      "outputs": [
        {
          "output_type": "stream",
          "name": "stdout",
          "text": [
            "[2, 77, 52, 27, 2, 77, 52, 27, 2, 77]\n"
          ]
        }
      ]
    },
    {
      "cell_type": "markdown",
      "source": [
        "![Screenshot from 2024-06-23 22-35-11.png](data:image/png;base64,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)"
      ],
      "metadata": {
        "id": "JOQfT5Yd80km"
      }
    },
    {
      "cell_type": "code",
      "source": [
        "'''\n",
        "2) Let the paper consist of a square target with a circle drawn as below. The square target has a length\n",
        "of two feet and the circular target has a radius of one foot. Estimating Pi using Monte Carlo Method\n",
        "using python program.\n",
        "'''\n",
        "\n",
        "import numpy as np\n",
        "import matplotlib.pyplot as plt\n",
        "\n",
        "# Function to estimate Pi using Monte Carlo method\n",
        "def estimate_pi(num_points):\n",
        "    # Generate random points within the square\n",
        "    x = np.random.uniform(-1, 1, num_points)\n",
        "    y = np.random.uniform(-1, 1, num_points)\n",
        "\n",
        "    # Calculate distances from the origin\n",
        "    distances = x**2 + y**2\n",
        "\n",
        "    # Count points inside the unit circle\n",
        "    inside_circle = np.sum(distances <= 1)\n",
        "\n",
        "    # Estimate Pi\n",
        "    pi_estimate = (inside_circle / num_points) * 4\n",
        "    return pi_estimate, x, y, distances\n",
        "\n",
        "# Number of points to generate\n",
        "num_points = 1000000  # Use a large number for a good estimate\n",
        "\n",
        "# Estimate Pi\n",
        "pi_estimate, x, y, distances = estimate_pi(num_points)\n",
        "print(f\"Estimated Pi: {pi_estimate}\")\n",
        "\n",
        "# Plot the points for visualization\n",
        "num_points_plot = 1000  # Use a smaller number for plotting\n",
        "x_plot, y_plot, distances_plot = x[:num_points_plot], y[:num_points_plot], distances[:num_points_plot]\n",
        "\n",
        "# Plotting the points\n",
        "fig, ax = plt.subplots()\n",
        "circle = plt.Circle((0, 0), 1, edgecolor='black', fill=False, linewidth=2)\n",
        "ax.add_artist(circle)\n",
        "\n",
        "# Scatter plot for the points, coloring inside and outside differently\n",
        "inside_circle_points = distances_plot <= 1\n",
        "ax.scatter(x_plot[inside_circle_points], y_plot[inside_circle_points], c='red', s=1, label='Inside Circle')\n",
        "ax.scatter(x_plot[~inside_circle_points], y_plot[~inside_circle_points], c='blue', s=1, label='Outside Circle')\n",
        "\n",
        "ax.set_aspect('equal', 'box')\n",
        "ax.set_xlim(-1.5, 1.5)\n",
        "ax.set_ylim(-1.5, 1.5)\n",
        "plt.title(f\"Monte Carlo Pi Estimation\\nEstimated Pi = {pi_estimate:.5f}\")\n",
        "plt.legend()\n",
        "plt.show()\n",
        "\n",
        "'''\n",
        "simplified one\n",
        "import numpy as np\n",
        "import matplotlib.pyplot as plt\n",
        "import numpy\n",
        "\n",
        "\n",
        "def estimate_pi(num_points):\n",
        "  x = np.random.uniform(-1,1,num_points)\n",
        "  y = np.random.uniform(-1,1,num_points)\n",
        "  distance = x**2 + y**2\n",
        "  inside_circle = np.sum(distance <= 1)\n",
        "  pi_estimate = 4 * (inside_circle/num_points)\n",
        "  return pi_estimate,x,y,distance\n",
        "\n",
        "num_points = 100000\n",
        "pi_estimate,x,y,distance = estimate_pi(num_points)\n",
        "print(\"Estinated pi : \",pi_estimate)\n",
        "'''\n"
      ],
      "metadata": {
        "colab": {
          "base_uri": "https://localhost:8080/",
          "height": 490
        },
        "id": "R1OtHQCsizhj",
        "outputId": "33089f6b-0327-4909-d0a1-940370f5a544"
      },
      "execution_count": null,
      "outputs": [
        {
          "output_type": "stream",
          "name": "stdout",
          "text": [
            "Estimated Pi: 3.141084\n"
          ]
        },
        {
          "output_type": "display_data",
          "data": {
            "text/plain": [
              "<Figure size 640x480 with 1 Axes>"
            ],
            "image/png": "[encoded data removed]"
          },
          "metadata": {}
        }
      ]
    },
    {
      "cell_type": "code",
      "source": [
        "'''\n",
        "3) Write a python program to calculate the probability of getting a double six (2 dice) after rolling\n",
        "them 24 times.\n",
        "'''\n",
        "\n",
        "\n",
        "import random\n",
        "\n",
        "def roll_dice():\n",
        "    \"\"\"\n",
        "    Simulates rolling two six-sided dice.\n",
        "\n",
        "    Returns:\n",
        "        A tuple of two integers, each representing a roll of a die.\n",
        "    \"\"\"\n",
        "    return random.randint(1, 6), random.randint(1, 6)\n",
        "\n",
        "def monte_carlo_simulation(trials, rolls_per_trial):\n",
        "    \"\"\"\n",
        "    Performs a Monte Carlo simulation to estimate the probability of rolling a double six.\n",
        "\n",
        "    Args:\n",
        "        trials: The number of trials to perform.\n",
        "        rolls_per_trial: The number of rolls per trial.\n",
        "\n",
        "    Returns:\n",
        "        The estimated probability of rolling at least one double six in the given number of rolls.\n",
        "    \"\"\"\n",
        "    double_six_count = 0\n",
        "    for _ in range(trials):\n",
        "        for _ in range(rolls_per_trial):\n",
        "            dice1, dice2 = roll_dice()\n",
        "            if dice1 == 6 and dice2 == 6:\n",
        "                double_six_count += 1\n",
        "                break  # Exit the loop early if a double six is rolled\n",
        "    return double_six_count / trials\n",
        "\n",
        "trials = 100000\n",
        "rolls_per_trial = 24\n",
        "\n",
        "probability = monte_carlo_simulation(trials, rolls_per_trial)\n",
        "print(\"Probability of getting a double six after 24 rolls: {:.6f}\".format(probability))\n"
      ],
      "metadata": {
        "colab": {
          "base_uri": "https://localhost:8080/"
        },
        "id": "SywZd_9viIt0",
        "outputId": "9167173e-0e7c-4053-cc2e-89bda091eff5"
      },
      "execution_count": null,
      "outputs": [
        {
          "output_type": "stream",
          "name": "stdout",
          "text": [
            "The estimated probability of getting at least one double six in 24 rolls is 0.488390\n"
          ]
        }
      ]
    },
    {
      "cell_type": "code",
      "source": [
        "'''\n",
        "6) There are 32 random numbers data as shown below. Write a python program and its corresponding\n",
        "output to determine whether this data fit with the normal distribution or NOT. Use critical value 24%. (4)\n",
        "\n",
        "SL RN SL RN\n",
        "0 67 16 83\n",
        "1 63 17 47\n",
        "2 33 18 67\n",
        "3 69 19 63\n",
        "4 53 20 33\n",
        "5 51 21 69\n",
        "6 49 22 53\n",
        "7 78 23 51\n",
        "8 77 24 49\n",
        "9 83 25 78\n",
        "10 47 26 77\n",
        "11 53 27 83\n",
        "12 51 28 47\n",
        "13 49 29 53\n",
        "14 78 30\n",
        "'''\n",
        "\n",
        "\n",
        "import pandas as pd\n",
        "import numpy as np\n",
        "import statistics\n",
        "df = pd.DataFrame({\"SL\":[0,1,2,3,4,5,6,7,8,9,10,11,12,13,14,15,16,17,18,19,20,21,22,23,24,25,26,27,28,29, 30],\n",
        "       \"RN\":[67,63,33,69,53,51,49,78,77,83,47,53,51,49,78,77,83,47,67,63,33,69,53,51,49,78,77,83,47,53,51]})\n",
        "\n",
        "#df = pd.DataFrame({\"A\":[1,4,7], \"B\":[2,5,8], \"C\":[3,6,9]})\n",
        "\n",
        "#Step 1 — Order the Data\n",
        "df = df.sort_values(by = \"RN\") #ascending = True)\n",
        "\n",
        "# Step 2 Add a column 𝑓% (frequency) indicating how many times each number appears.\n",
        "df[\"Frecuency\"] = df['RN'].map(df['RN'].value_counts())\n",
        "df = df.drop_duplicates()\n",
        "# Step 3 Add Observed relative cumulative frequency column\n",
        "df_2 = df\n",
        "df_2[\"Count\"] = np.arange(1, len(df_2) + 1) #using numpy to generate count from 1 to the length of dataframe\n",
        "df_2[\"ORCF\"] = df_2[\"Count\"] / len(df) #Observed Relative Cumulative Frequency\n",
        "# Step 4 Add expected relative cumulative frequency column\n",
        "df_3 = df_2\n",
        "mu = df_3[\"RN\"].mean()\n",
        "sd = df_3[\"RN\"].std()\n",
        "#Case 1: Calculated mean (mu) and standard deviation (sd)\n",
        "normal = statistics.NormalDist(mu, sd)\n",
        "\n",
        "#Case 2: deafult mean (mu) = 50, standard deviation (sd) = 10\n",
        "# comment above line and uncomment the three lines below and see what happens\n",
        "# mu = 50\n",
        "# sd = 10\n",
        "# normal = statistics.NormalDist(mu, sd)\n",
        "\n",
        "df_3[\"ERCF\"] = df_3[\"RN\"].apply(lambda x: normal.cdf(x)) #Expected Relative Cumulative Frequency\n",
        "\n",
        "# Step 5 Add difference column\n",
        "df_4 = df_3\n",
        "df_4[\"Difference\"] = abs(df_4[\"ORCF\"]-df_4[\"ERCF\"])\n",
        "# Step 6 Get the max of the difference\n",
        "df_5 = df_4\n",
        "Dn = max(df_5[\"Difference\"])\n",
        "# Step 7 Compare Critical Value (CV) of K-S vs Dn Value\n",
        "cv = 0.24\n",
        "if (Dn <= cv):\n",
        "    print(\"H_0: This data FITS with a normal distribution N(\"+str(mu)+\",\"+str(sd)+\")\")\n",
        "else:\n",
        "    print(\"H_1: This data DO NOT fits with a normal distribution N(\"+str(mu)+\",\"+str(sd)+\")\")"
      ],
      "metadata": {
        "colab": {
          "base_uri": "https://localhost:8080/"
        },
        "id": "iubGik-Wmobq",
        "outputId": "b4bc8503-51ce-439e-eda2-6f7a628fd37c"
      },
      "execution_count": null,
      "outputs": [
        {
          "output_type": "stream",
          "name": "stdout",
          "text": [
            "H_0: This data FITS with a normal distribution N(60.70967741935484,14.760744218787655)\n"
          ]
        }
      ]
    },
    {
      "cell_type": "code",
      "source": [
        "'''\n",
        "7) Write a python program to calculate the probability of dying a given number of fishes in a given\n",
        "year where data for the average number of fishes and estimated number of fishes will be taken as\n",
        "input. Your program should have function that solves the poisson distribution equation and return the\n",
        "value. The output should match the following format and complete the missing value (upto 6 digit\n",
        "after the decimal) based on the program.\n",
        "Input (average and estimated value) Output (Poisson Probability)\n",
        "Case 1: 250, 275 0.007169\n",
        "Case 2: 300, 350 ?\n",
        "Case 3: 100, 150 ?\n",
        "'''\n",
        "\n",
        "import math\n",
        "\n",
        "def poisson_probability(average, k):\n",
        "    \"\"\"\n",
        "    Calculates the probability of k events occurring given an average rate of lambda events.\n",
        "\n",
        "    Args:\n",
        "        average: The average number of events (fish deaths) per year.\n",
        "        k: The number of events (fish deaths) to calculate the probability for.\n",
        "\n",
        "    Returns:\n",
        "        The probability of k events occurring.\n",
        "    \"\"\"\n",
        "    e = math.exp(-average)  # Calculate e raised to the power of -average\n",
        "    return (average**k / math.factorial(k)) * e  # Poisson probability formula\n",
        "\n",
        "# Input cases\n",
        "cases = [\n",
        "    (250, 275),\n",
        "    (300, 350),\n",
        "    (100, 150)\n",
        "]\n",
        "\n",
        "# Calculate and display probabilities\n",
        "for average, estimated in cases:\n",
        "    probability = poisson_probability(average, estimated)\n",
        "    print(f\"Case: Average {average}, Estimated {estimated} (Probability: {probability:.6f})\")\n"
      ],
      "metadata": {
        "colab": {
          "base_uri": "https://localhost:8080/"
        },
        "id": "g1o8J1xvgKWi",
        "outputId": "9b80bc19-c485-42fb-9d34-b12fffbac731"
      },
      "execution_count": null,
      "outputs": [
        {
          "output_type": "stream",
          "name": "stdout",
          "text": [
            "Case: Average 250, Estimated 275 (Known Probability: 0.007169)\n",
            "Case: Average 300, Estimated 350 (Probability: 0.000409)\n",
            "Case: Average 100, Estimated 150 (Probability: 0.000001)\n"
          ]
        }
      ]
    },
    {
      "cell_type": "code",
      "execution_count": null,
      "metadata": {
        "colab": {
          "base_uri": "https://localhost:8080/"
        },
        "id": "CZlrpHSF4Qr8",
        "outputId": "248297c2-ed01-4f8d-b029-89812490a3cf"
      },
      "outputs": [
        {
          "output_type": "stream",
          "name": "stdout",
          "text": [
            "    Data   Z-score\n",
            "0      3 -1.393981\n",
            "1      4 -0.929320\n",
            "2      5 -0.464660\n",
            "3      6  0.000000\n",
            "4      7  0.464660\n",
            "5      8  0.929320\n",
            "6      8  0.929320\n",
            "7      8  0.929320\n",
            "8      8  0.929320\n",
            "9      8  0.929320\n",
            "10     9  1.393981\n",
            "11     9  1.393981\n",
            "12     7  0.464660\n",
            "13     6  0.000000\n",
            "14     6  0.000000\n",
            "15     5 -0.464660\n",
            "16     4 -0.929320\n",
            "17     4 -0.929320\n",
            "18     3 -1.393981\n",
            "19     2 -1.858641\n"
          ]
        }
      ],
      "source": [
        "'''\n",
        "9) Convert each individual data value into a z-score purposing to transform the Normal Distribution of\n",
        "this data into the Standard Normal Distribution. Calculate the mean and standard deviation using\n",
        "these data and use that to replace the '?' mark in the following the z-score dataframe.\n",
        "\n",
        "df_z_score = pd.DataFrame({\"Data\":[3, 4, 5, 6, 7, 8, 8, 8, 8, 8, 9, 9, 7, 6, 6, 5, 4, 4, 3, 2],\n",
        "\"Z-score\":[-1.39,-0.93, 0.93, ? , ? , ? , ? , ? , ? , ? , ? , ? , ? , ? , ? , ? , ? , -0.93,-1.39, -1.86]})\n",
        "'''\n",
        "import pandas as pd\n",
        "df = pd.DataFrame({\"Data\":[3, 4, 5, 6, 7, 8, 8, 8, 8, 8, 9, 9, 7, 6, 6, 5, 4, 4, 3, 2]})\n",
        "\n",
        "mean = df[\"Data\"].mean()\n",
        "std = df[\"Data\"].std()\n",
        "\n",
        "df[\"Z-score\"] = (df[\"Data\"] - mean)/std\n",
        "print(df)"
      ]
    },
    {
      "cell_type": "code",
      "execution_count": null,
      "metadata": {
        "colab": {
          "base_uri": "https://localhost:8080/",
          "height": 472
        },
        "id": "HjNWc5Ayt_yA",
        "outputId": "35bc1fcf-e1d9-4b41-cb2b-3639d1f0dfa2"
      },
      "outputs": [
        {
          "output_type": "display_data",
          "data": {
            "text/plain": [
              "<Figure size 640x480 with 1 Axes>"
            ],
            "image/png": "[encoded data removed]"
          },
          "metadata": {}
        }
      ],
      "source": [
        "'''\n",
        "10) Suppose there are 20 newborn babies in a hospital whose ages in increasing order are as\n",
        "follows:\n",
        "ages = [1, 1, 1, 1, 2, 2, 2, 2, 2, 3, 3, 3, 3, 3, 3, 3, 3, 4, 4, 5]\n",
        "Write a python program to count the given age values and construct the frequency distribution\n",
        "table and plot the histogram with x-axis shows the Age in days and y-axis shows the frequency.\n",
        "'''\n",
        "\n",
        "import numpy as np\n",
        "import matplotlib.pyplot as plt\n",
        "\n",
        "ages = [1, 1, 1, 1, 2, 2, 2, 2, 2, 3, 3, 3, 3, 3, 3, 3, 3, 4, 4, 5]\n",
        "\n",
        "unique_ages,counts = np.unique(ages,return_counts=True)\n",
        "\n",
        "plt.bar(unique_ages,counts)\n",
        "plt.xlabel(\"Age in days\")\n",
        "plt.ylabel(\"Frequncy\")\n",
        "plt.title(\"Histogram of new Babies\")\n",
        "plt.show()"
      ]
    }
  ]
}